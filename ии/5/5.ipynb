{
 "cells": [
  {
   "cell_type": "code",
   "execution_count": 37,
   "metadata": {},
   "outputs": [
    {
     "data": {
      "text/plain": [
       "0.5403023058681398"
      ]
     },
     "execution_count": 37,
     "metadata": {},
     "output_type": "execute_result"
    }
   ],
   "source": [
    "import math as m \n",
    "import numpy as np\n",
    "class tr:\n",
    "    def __init__(self,num):\n",
    "        self.num= num\n",
    "         \n",
    "    def meth(self):\n",
    "        print(m.cos(self.num))\n",
    "\n",
    "    def meth1(self):\n",
    "        print(m.tan(self.num))\n",
    "\n",
    "    def meth2(self):\n",
    "        print(m.sin(self.num))\n",
    "\n",
    "    def meth3(self):\n",
    "        try:\n",
    "            print(m.asin(self.num))\n",
    "        except BaseException:\n",
    "            print(None)\n",
    "\n",
    "    def meth4(self):\n",
    "        try:\n",
    "            print(m.acos(self.num))\n",
    "        except BaseException:\n",
    "            print(None)\n",
    "    \n",
    "    def meth5(self):\n",
    "        try:\n",
    "            m.atan(self.num)\n",
    "        except BaseException:\n",
    "            print(None)\n",
    "\n",
    "    def meth6(self):\n",
    "        print(m.radians(self.num))\n",
    "\n",
    "\n",
    "# t = tr(60)\n",
    "# t.meth()\n",
    "# t.meth1()\n",
    "# t.meth2()\n",
    "# t.meth3()\n",
    "# t.meth4()\n",
    "# t.meth5()\n",
    "# t.meth6()\n",
    "np.cos(1)\n"
   ]
  }
 ],
 "metadata": {
  "kernelspec": {
   "display_name": "Python 3",
   "language": "python",
   "name": "python3"
  },
  "language_info": {
   "codemirror_mode": {
    "name": "ipython",
    "version": 3
   },
   "file_extension": ".py",
   "mimetype": "text/x-python",
   "name": "python",
   "nbconvert_exporter": "python",
   "pygments_lexer": "ipython3",
   "version": "3.10.10"
  },
  "orig_nbformat": 4,
  "vscode": {
   "interpreter": {
    "hash": "c8382ffeb946acba4e3202f3350379e6704e99c4f24df70219711074bc846a0c"
   }
  }
 },
 "nbformat": 4,
 "nbformat_minor": 2
}
