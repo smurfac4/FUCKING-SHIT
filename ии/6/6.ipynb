{
 "cells": [
  {
   "cell_type": "code",
   "execution_count": 1,
   "metadata": {},
   "outputs": [],
   "source": [
    "def qZ(x,y):\n",
    "    return (x - 3 *y)/(2*(x**2)+2*(y**2)+1)\n"
   ]
  },
  {
   "cell_type": "code",
   "execution_count": 2,
   "metadata": {},
   "outputs": [],
   "source": [
    "def qsumZ(Z):\n",
    "    return sum(Z)\n"
   ]
  },
  {
   "cell_type": "code",
   "execution_count": 3,
   "metadata": {},
   "outputs": [],
   "source": [
    "def exchangeScheme(oldX, oldY, sortedId): \n",
    "    X = [0 for i in range(4)] \n",
    "    Y = [0 for i in range(4)]\n",
    "    X[2] = oldX[sortedId[2]] \n",
    "    X[3] = oldX[sortedId[2]]\n",
    "    X[0] = oldX[sortedId[0]]\n",
    "    X[1] = oldX[sortedId[1]]\n",
    "    Y[0] = oldY[sortedId[2]] \n",
    "    Y[1] = oldY[sortedId[2]]\n",
    "    Y[2] = oldY[sortedId[0]]\n",
    "    Y[3] = oldY[sortedId[1]]\n",
    "    return X,Y\n"
   ]
  },
  {
   "cell_type": "code",
   "execution_count": 4,
   "metadata": {},
   "outputs": [],
   "source": [
    "def sorting(Z):\n",
    "    sortedId = sorted(range(len(Z)), key = lambda k: Z[k])\n",
    "    return sortedId\n",
    "\n"
   ]
  },
  {
   "cell_type": "code",
   "execution_count": 5,
   "metadata": {},
   "outputs": [],
   "source": [
    "def evoStep(X, Y, Z):\n",
    "    _, minId = min((value, id) for (id, value) in enumerate(Z)) \n",
    "    X = X[:]\n",
    "    Y = Y[:]\n",
    "    Z = Z[:]\n",
    "    X. pop(minId)\n",
    "    Y.pop(minId)\n",
    "    Z.pop(minId)\n",
    "    return X, Y, Z"
   ]
  },
  {
   "cell_type": "code",
   "execution_count": 6,
   "metadata": {},
   "outputs": [],
   "source": [
    "def evoSteps(X, Y): \n",
    "    results = []\n",
    "    for i in range(4): \n",
    "        arrZ = [qZ(x, Y[i]) for i, x in enumerate(X)]\n",
    "        X,Y,Z = evoStep(X, Y, arrZ)\n",
    "        Z, Y = exchangeScheme(X, Y, sorting(Z))\n",
    "        results.append([X, Y, qsumZ(arrZ), arrZ])\n",
    "\n",
    "    return X, Y, results"
   ]
  },
  {
   "cell_type": "code",
   "execution_count": 9,
   "metadata": {},
   "outputs": [
    {
     "ename": "IndexError",
     "evalue": "list index out of range",
     "output_type": "error",
     "traceback": [
      "\u001b[1;31m---------------------------------------------------------------------------\u001b[0m",
      "\u001b[1;31mIndexError\u001b[0m                                Traceback (most recent call last)",
      "Cell \u001b[1;32mIn[9], line 3\u001b[0m\n\u001b[0;32m      1\u001b[0m X \u001b[39m=\u001b[39m [\u001b[39m-\u001b[39m\u001b[39m1\u001b[39m,\u001b[39m0\u001b[39m,\u001b[39m2\u001b[39m,\u001b[39m3\u001b[39m]\n\u001b[0;32m      2\u001b[0m Y \u001b[39m=\u001b[39m [\u001b[39m0\u001b[39m,\u001b[39m1\u001b[39m,\u001b[39m-\u001b[39m\u001b[39m2\u001b[39m,\u001b[39m2\u001b[39m]\n\u001b[1;32m----> 3\u001b[0m results \u001b[39m=\u001b[39m evoSteps(X,Y)\n\u001b[0;32m      5\u001b[0m \u001b[39m# for i in range(len(results[2])):\u001b[39;00m\n\u001b[0;32m      6\u001b[0m \u001b[39m#     print(results[2][i][2])\u001b[39;00m\n\u001b[0;32m      7\u001b[0m \n\u001b[1;32m   (...)\u001b[0m\n\u001b[0;32m     10\u001b[0m \u001b[39m#     qualityArrZ += results[2][i][3]\u001b[39;00m\n\u001b[0;32m     11\u001b[0m \u001b[39m# # print(f'max Z: {max(qualityArrZ)}')\u001b[39;00m\n",
      "Cell \u001b[1;32mIn[6], line 6\u001b[0m, in \u001b[0;36mevoSteps\u001b[1;34m(X, Y)\u001b[0m\n\u001b[0;32m      4\u001b[0m     arrZ \u001b[39m=\u001b[39m [qZ(x, Y[i]) \u001b[39mfor\u001b[39;00m i, x \u001b[39min\u001b[39;00m \u001b[39menumerate\u001b[39m(X)]\n\u001b[0;32m      5\u001b[0m     X,Y,Z \u001b[39m=\u001b[39m evoStep(X, Y, arrZ)\n\u001b[1;32m----> 6\u001b[0m     Z, Y \u001b[39m=\u001b[39m exchangeScheme(X, Y, sorting(Z))\n\u001b[0;32m      7\u001b[0m     results\u001b[39m.\u001b[39mappend([X, Y, qsumZ(arrZ), arrZ])\n\u001b[0;32m      9\u001b[0m \u001b[39mreturn\u001b[39;00m X, Y, results\n",
      "Cell \u001b[1;32mIn[3], line 4\u001b[0m, in \u001b[0;36mexchangeScheme\u001b[1;34m(oldX, oldY, sortedId)\u001b[0m\n\u001b[0;32m      2\u001b[0m X \u001b[39m=\u001b[39m [\u001b[39m0\u001b[39m \u001b[39mfor\u001b[39;00m i \u001b[39min\u001b[39;00m \u001b[39mrange\u001b[39m(\u001b[39m4\u001b[39m)] \n\u001b[0;32m      3\u001b[0m Y \u001b[39m=\u001b[39m [\u001b[39m0\u001b[39m \u001b[39mfor\u001b[39;00m i \u001b[39min\u001b[39;00m \u001b[39mrange\u001b[39m(\u001b[39m4\u001b[39m)]\n\u001b[1;32m----> 4\u001b[0m X[\u001b[39m2\u001b[39m] \u001b[39m=\u001b[39m oldX[sortedId[\u001b[39m2\u001b[39;49m]] \n\u001b[0;32m      5\u001b[0m X[\u001b[39m3\u001b[39m] \u001b[39m=\u001b[39m oldX[sortedId[\u001b[39m2\u001b[39m]]\n\u001b[0;32m      6\u001b[0m X[\u001b[39m0\u001b[39m] \u001b[39m=\u001b[39m oldX[sortedId[\u001b[39m0\u001b[39m]]\n",
      "\u001b[1;31mIndexError\u001b[0m: list index out of range"
     ]
    }
   ],
   "source": [
    "X = [-1,0,2,3]\n",
    "Y = [0,1,-2,2]\n",
    "results = evoSteps(X,Y)\n",
    "\n",
    "# for i in range(len(results[2])):\n",
    "#     print(results[2][i][2])\n",
    "\n",
    "# qualityArrZ = [] \n",
    "# for i in range(len(results[2])):\n",
    "#     qualityArrZ += results[2][i][3]\n",
    "# # print(f'max Z: {max(qualityArrZ)}')"
   ]
  }
 ],
 "metadata": {
  "kernelspec": {
   "display_name": "Python 3",
   "language": "python",
   "name": "python3"
  },
  "language_info": {
   "codemirror_mode": {
    "name": "ipython",
    "version": 3
   },
   "file_extension": ".py",
   "mimetype": "text/x-python",
   "name": "python",
   "nbconvert_exporter": "python",
   "pygments_lexer": "ipython3",
   "version": "3.10.10"
  },
  "orig_nbformat": 4
 },
 "nbformat": 4,
 "nbformat_minor": 2
}
